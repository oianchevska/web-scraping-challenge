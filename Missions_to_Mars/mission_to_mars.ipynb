{
 "cells": [
  {
   "cell_type": "code",
   "execution_count": 22,
   "metadata": {},
   "outputs": [],
   "source": [
    "import pandas as pd\n",
    "from bs4 import BeautifulSoup as bs\n",
    "from splinter import Browser\n",
    "import requests\n",
    "import time\n",
    "\n",
    "# Initialize browser\n",
    "def init_browser():\n",
    "    executable_path = {'executable_path': '../chromedriver'}\n",
    "    return Browser('chrome', **executable_path, headless=False) "
   ]
  },
  {
   "cell_type": "markdown",
   "metadata": {},
   "source": [
    "## NASA Mars News"
   ]
  },
  {
   "cell_type": "code",
   "execution_count": 23,
   "metadata": {},
   "outputs": [
    {
     "name": "stdout",
     "output_type": "stream",
     "text": [
      "The Latest News Title: The Detective Aboard NASA's Perseverance Rover\n",
      "The Latest Paragraph Text: An instrument called SHERLOC will, with the help of its partner WATSON, hunt for signs of ancient life by detecting organic molecules and minerals.\n"
     ]
    }
   ],
   "source": [
    "# Create BeautifulSoup object; parse with 'html.parser'\n",
    "browser=init_browser()\n",
    "url='https://mars.nasa.gov/news/'\n",
    "browser.visit(url)\n",
    "time.sleep(2)\n",
    "html = browser.html\n",
    "soup=bs(html,\"html.parser\")\n",
    "news_title=soup.find_all(attrs={'class': 'content_title'})[1].get_text() \n",
    "news_p = soup.find_all(attrs={'class':'article_teaser_body'})[0].get_text() \n",
    "browser.quit()\n",
    "print (f'The Latest News Title: {news_title}')\n",
    "print (f'The Latest Paragraph Text: {news_p}')"
   ]
  },
  {
   "cell_type": "markdown",
   "metadata": {
    "pycharm": {
     "name": "#%% md\n"
    }
   },
   "source": [
    "## JPL Mars Space Images - Featured Image"
   ]
  },
  {
   "cell_type": "code",
   "execution_count": 24,
   "metadata": {
    "pycharm": {
     "name": "#%%\n"
    }
   },
   "outputs": [
    {
     "name": "stdout",
     "output_type": "stream",
     "text": [
      "The current Featured Mars Image url: https://www.jpl.nasa.gov//spaceimages/images/mediumsize/PIA18049_ip.jpg\n"
     ]
    }
   ],
   "source": [
    "browser=init_browser()\n",
    "featured_image_url='https://www.jpl.nasa.gov/spaceimages/?search=&category=Mars'\n",
    "browser.visit(featured_image_url)\n",
    "browser.find_by_css('a#full_image.button.fancybox').first.click()\n",
    "time.sleep(1)\n",
    "html = browser.html\n",
    "browser.quit()\n",
    "soup=bs(html,\"html.parser\")\n",
    "mars_image=soup.find_all(attrs={'class': 'fancybox-image'})[0]\n",
    "url_image=mars_image.get('src')\n",
    "featured_image_url='https://www.jpl.nasa.gov/' + url_image\n",
    "print (f'The current Featured Mars Image url: {featured_image_url}')"
   ]
  },
  {
   "cell_type": "markdown",
   "metadata": {
    "pycharm": {
     "name": "#%% md\n"
    }
   },
   "source": [
    "## Mars Weather"
   ]
  },
  {
   "cell_type": "code",
   "execution_count": 25,
   "metadata": {
    "pycharm": {
     "name": "#%%\n"
    }
   },
   "outputs": [
    {
     "name": "stdout",
     "output_type": "stream",
     "text": [
      "The latest Mars weather tweet: InSight sol 535 (2020-05-29) low -91.3ºC (-132.4ºF) high -2.7ºC (27.2ºF)\n",
      "winds from the SW at 5.2 m/s (11.5 mph) gusting to 16.7 m/s (37.3 mph)\n",
      "pressure at 7.20 hPa\n"
     ]
    }
   ],
   "source": [
    "browser=init_browser()\n",
    "twitter_url='https://twitter.com/marswxreport?lang=en'\n",
    "browser.visit(twitter_url)\n",
    "time.sleep(1)\n",
    "html = browser.html\n",
    "browser.quit()\n",
    "soup=bs(html,\"html.parser\")\n",
    "twitter_news=soup.find_all(attrs={'role':'article'})[0]\n",
    "mars_weather=twitter_news.find(attrs={'lang':'en'}).get_text()\n",
    "print (f'The latest Mars weather tweet: {mars_weather}') "
   ]
  },
  {
   "cell_type": "markdown",
   "metadata": {
    "pycharm": {
     "name": "#%% md\n"
    }
   },
   "source": [
    "## Mars Facts"
   ]
  },
  {
   "cell_type": "code",
   "execution_count": 26,
   "metadata": {
    "pycharm": {
     "name": "#%%\n"
    }
   },
   "outputs": [
    {
     "data": {
      "text/html": [
       "<div>\n",
       "<style scoped>\n",
       "    .dataframe tbody tr th:only-of-type {\n",
       "        vertical-align: middle;\n",
       "    }\n",
       "\n",
       "    .dataframe tbody tr th {\n",
       "        vertical-align: top;\n",
       "    }\n",
       "\n",
       "    .dataframe thead th {\n",
       "        text-align: right;\n",
       "    }\n",
       "</style>\n",
       "<table border=\"1\" class=\"dataframe\">\n",
       "  <thead>\n",
       "    <tr style=\"text-align: right;\">\n",
       "      <th></th>\n",
       "      <th>Value</th>\n",
       "    </tr>\n",
       "    <tr>\n",
       "      <th>Description</th>\n",
       "      <th></th>\n",
       "    </tr>\n",
       "  </thead>\n",
       "  <tbody>\n",
       "    <tr>\n",
       "      <th>6,792 km</th>\n",
       "      <td>Equatorial Diameter:</td>\n",
       "    </tr>\n",
       "    <tr>\n",
       "      <th>6,752 km</th>\n",
       "      <td>Polar Diameter:</td>\n",
       "    </tr>\n",
       "    <tr>\n",
       "      <th>6.39 × 10^23 kg (0.11 Earths)</th>\n",
       "      <td>Mass:</td>\n",
       "    </tr>\n",
       "    <tr>\n",
       "      <th>2 (Phobos &amp; Deimos)</th>\n",
       "      <td>Moons:</td>\n",
       "    </tr>\n",
       "    <tr>\n",
       "      <th>227,943,824 km (1.38 AU)</th>\n",
       "      <td>Orbit Distance:</td>\n",
       "    </tr>\n",
       "    <tr>\n",
       "      <th>687 days (1.9 years)</th>\n",
       "      <td>Orbit Period:</td>\n",
       "    </tr>\n",
       "    <tr>\n",
       "      <th>-87 to -5 °C</th>\n",
       "      <td>Surface Temperature:</td>\n",
       "    </tr>\n",
       "    <tr>\n",
       "      <th>2nd millennium BC</th>\n",
       "      <td>First Record:</td>\n",
       "    </tr>\n",
       "    <tr>\n",
       "      <th>Egyptian astronomers</th>\n",
       "      <td>Recorded By:</td>\n",
       "    </tr>\n",
       "  </tbody>\n",
       "</table>\n",
       "</div>"
      ],
      "text/plain": [
       "                                              Value\n",
       "Description                                        \n",
       "6,792 km                       Equatorial Diameter:\n",
       "6,752 km                            Polar Diameter:\n",
       "6.39 × 10^23 kg (0.11 Earths)                 Mass:\n",
       "2 (Phobos & Deimos)                          Moons:\n",
       "227,943,824 km (1.38 AU)            Orbit Distance:\n",
       "687 days (1.9 years)                  Orbit Period:\n",
       "-87 to -5 °C                   Surface Temperature:\n",
       "2nd millennium BC                     First Record:\n",
       "Egyptian astronomers                   Recorded By:"
      ]
     },
     "execution_count": 26,
     "metadata": {},
     "output_type": "execute_result"
    }
   ],
   "source": [
    "mars_url = 'https://space-facts.com/mars/'\n",
    "mars_table = pd.read_html(mars_url)[0]\n",
    "mars_table = mars_table.rename(columns={0: 'Value', 1: 'Description'})\n",
    "mars_table=mars_table.set_index('Description')\n",
    "mars_table"
   ]
  },
  {
   "cell_type": "code",
   "execution_count": 27,
   "metadata": {
    "pycharm": {
     "name": "#%%\n"
    }
   },
   "outputs": [
    {
     "name": "stdout",
     "output_type": "stream",
     "text": [
      "Mars Facts in the HTML: <table border=\"1\" class=\"dataframe mars_data\">\n",
      "  <thead>\n",
      "    <tr style=\"text-align: left;\">\n",
      "      <th></th>\n",
      "      <th>Value</th>\n",
      "    </tr>\n",
      "    <tr>\n",
      "      <th>Description</th>\n",
      "      <th></th>\n",
      "    </tr>\n",
      "  </thead>\n",
      "  <tbody>\n",
      "    <tr>\n",
      "      <th>6,792 km</th>\n",
      "      <td>Equatorial Diameter:</td>\n",
      "    </tr>\n",
      "    <tr>\n",
      "      <th>6,752 km</th>\n",
      "      <td>Polar Diameter:</td>\n",
      "    </tr>\n",
      "    <tr>\n",
      "      <th>6.39 × 10^23 kg (0.11 Earths)</th>\n",
      "      <td>Mass:</td>\n",
      "    </tr>\n",
      "    <tr>\n",
      "      <th>2 (Phobos &amp; Deimos)</th>\n",
      "      <td>Moons:</td>\n",
      "    </tr>\n",
      "    <tr>\n",
      "      <th>227,943,824 km (1.38 AU)</th>\n",
      "      <td>Orbit Distance:</td>\n",
      "    </tr>\n",
      "    <tr>\n",
      "      <th>687 days (1.9 years)</th>\n",
      "      <td>Orbit Period:</td>\n",
      "    </tr>\n",
      "    <tr>\n",
      "      <th>-87 to -5 °C</th>\n",
      "      <td>Surface Temperature:</td>\n",
      "    </tr>\n",
      "    <tr>\n",
      "      <th>2nd millennium BC</th>\n",
      "      <td>First Record:</td>\n",
      "    </tr>\n",
      "    <tr>\n",
      "      <th>Egyptian astronomers</th>\n",
      "      <td>Recorded By:</td>\n",
      "    </tr>\n",
      "  </tbody>\n",
      "</table>\n"
     ]
    }
   ],
   "source": [
    "mars_data = mars_table.to_html(classes='mars_data',justify='left')\n",
    "print (f'Mars Facts in the HTML: {mars_data}') "
   ]
  },
  {
   "cell_type": "markdown",
   "metadata": {
    "pycharm": {
     "name": "#%%\n"
    }
   },
   "source": [
    "## Mars Hemispheres"
   ]
  },
  {
   "cell_type": "code",
   "execution_count": 28,
   "metadata": {
    "pycharm": {
     "name": "#%%\n"
    }
   },
   "outputs": [
    {
     "name": "stdout",
     "output_type": "stream",
     "text": [
      "The Cerberus Hemisphere Enhanced image: https://astrogeology.usgs.gov/cache/images/f5e372a36edfa389625da6d0cc25d905_cerberus_enhanced.tif_full.jpg\n",
      "The Schiaparelli Hemisphere Enhanced image: https://astrogeology.usgs.gov/cache/images/3778f7b43bbbc89d6e3cfabb3613ba93_schiaparelli_enhanced.tif_full.jpg\n",
      "The Syrtis Major Hemisphere Enhanced image: https://astrogeology.usgs.gov/cache/images/555e6403a6ddd7ba16ddb0e471cadcf7_syrtis_major_enhanced.tif_full.jpg\n",
      "The Valles Marineris Hemisphere Enhanced image: https://astrogeology.usgs.gov/cache/images/b3c7c6c9138f57b4756be9b9c43e3a48_valles_marineris_enhanced.tif_full.jpg\n"
     ]
    }
   ],
   "source": [
    "hem_url = 'https://astrogeology.usgs.gov/search/results?q=hemisphere+enhanced&k1=target&v1=Mars'\n",
    "browser=init_browser()\n",
    "browser.visit(hem_url)\n",
    "hemisphere_image_urls = []\n",
    "for i in range(len(browser.find_by_css('img.thumb'))):\n",
    "    img_page = browser.find_by_css('img.thumb')\n",
    "    img_page[i].click()\n",
    "    time.sleep(1)\n",
    "    html = browser.html\n",
    "    soup = bs(html, \"html.parser\")\n",
    "    image_info = soup.find_all(attrs={'class': 'wide-image'})[0].get('src')\n",
    "    title_info = soup.find_all(\"h2\", attrs={'class': 'title'})[0].get_text()\n",
    "    dict_info = {\"title\": title_info, \"img_url\": 'https://astrogeology.usgs.gov' + image_info}\n",
    "    hemisphere_image_urls.append(dict_info)\n",
    "    browser.back()\n",
    "browser.quit()\n",
    "for img in hemisphere_image_urls:\n",
    "    print(f'The {img[\"title\"]} image: {img[\"img_url\"]}')"
   ]
  }
 ],
 "metadata": {
  "kernelspec": {
   "display_name": "Python [conda env:PythonData] *",
   "language": "python",
   "name": "conda-env-PythonData-py"
  },
  "language_info": {
   "codemirror_mode": {
    "name": "ipython",
    "version": 3
   },
   "file_extension": ".py",
   "mimetype": "text/x-python",
   "name": "python",
   "nbconvert_exporter": "python",
   "pygments_lexer": "ipython3",
   "version": "3.7.6"
  }
 },
 "nbformat": 4,
 "nbformat_minor": 4
}